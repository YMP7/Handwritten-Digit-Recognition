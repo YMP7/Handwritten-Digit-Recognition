{
 "cells": [
  {
   "cell_type": "markdown",
   "id": "4631fb3b-ea12-48c2-b61c-257eff28901d",
   "metadata": {},
   "source": [
    "# HandWritten Digit Recognition"
   ]
  },
  {
   "cell_type": "markdown",
   "id": "ee07f297-58c1-44bb-9e57-6dc50c6502d9",
   "metadata": {},
   "source": [
    "***1. Screen capture***<br>\n",
    "***2. Generate dataset and load it***<br>\n",
    "***3. Fit the model using SVC and calculate accuracy***<br>\n",
    "***4. Prediction of image drawn in paint***"
   ]
  },
  {
   "cell_type": "markdown",
   "id": "1bb7da9f-d454-4360-a10b-ee4e69b66988",
   "metadata": {},
   "source": [
    "# 1.Screen Capture"
   ]
  },
  {
   "cell_type": "code",
   "execution_count": 1,
   "id": "b6ff14e0-f7a1-47a6-b87b-8087869e4589",
   "metadata": {},
   "outputs": [],
   "source": [
    "import pyscreenshot as pys\n",
    "import time"
   ]
  },
  {
   "cell_type": "markdown",
   "id": "49f67d98-7997-4a15-9cff-cd35da0fcfc0",
   "metadata": {},
   "source": [
    "**getting bbox co-ordinates**"
   ]
  },
  {
   "cell_type": "code",
   "execution_count": 2,
   "id": "48d894f4-accd-4b57-87ea-a74464c0f10a",
   "metadata": {},
   "outputs": [
    {
     "name": "stdout",
     "output_type": "stream",
     "text": [
      "Mouse moved to (0, 0). Press 's' to capture coordinates.\n",
      "Captured Coordinates - Mouse X: 836, Mouse Y: 885\n"
     ]
    }
   ],
   "source": [
    "import pyautogui\n",
    "import keyboard\n",
    "\n",
    "def main():\n",
    "    # Move mouse to starting coordinates (0, 0)\n",
    "    pyautogui.moveTo(0, 0)\n",
    "    print(\"Mouse moved to (0, 0). Press 's' to capture coordinates.\")\n",
    "\n",
    "    # Wait for the user to press 's' key\n",
    "    keyboard.wait('s')\n",
    "\n",
    "    # Get current mouse position\n",
    "    current_mouse_x, current_mouse_y = pyautogui.position()\n",
    "\n",
    "    # Print the captured coordinates\n",
    "    print(f\"Captured Coordinates - Mouse X: {current_mouse_x}, Mouse Y: {current_mouse_y}\")\n",
    "\n",
    "if __name__ == \"__main__\":\n",
    "    main()\n"
   ]
  },
  {
   "cell_type": "markdown",
   "id": "4bb941fb-0b95-4d91-a734-3871fe7f93ef",
   "metadata": {},
   "source": [
    "**x1:167,y1:448;x2:1369,y2:1370**"
   ]
  },
  {
   "cell_type": "code",
   "execution_count": 35,
   "id": "a0aa1dec-d4b1-43b3-bf62-a1b6d2573661",
   "metadata": {},
   "outputs": [],
   "source": [
    "# import pyscreenshot as ImageGrab\n",
    "# import time\n",
    "# images_folder=f\"captured_images/{file_path}/\" here file path is 0,1,2,.....9\n",
    "  \n",
    "#for i in range(0,100):\n",
    "  # time.sleep(3)\n",
    "  # im=ImageGrab.grab(bbox=(149,422,836,885)) #x1,y1,x2,y2\n",
    "  # print(\"saved......\",i)\n",
    " #  im.save(images_folder+str(i)+'.png')\n",
    "  # print(\"clear screen now and redraw now........\")\n"
   ]
  },
  {
   "cell_type": "markdown",
   "id": "3a073d25-c098-4e79-8d39-5adc9b7b3881",
   "metadata": {},
   "source": [
    "**the above code is used for a set of images creation**"
   ]
  },
  {
   "cell_type": "markdown",
   "id": "a1560772-08b5-440b-87db-1c96e0fd095d",
   "metadata": {},
   "source": [
    "# 2.Generate Dataset"
   ]
  },
  {
   "cell_type": "code",
   "execution_count": 70,
   "id": "c3535005-a88a-43db-83d9-2a64123eb2c8",
   "metadata": {},
   "outputs": [],
   "source": [
    "import cv2\n",
    "import csv\n",
    "import glob\n",
    "  \n",
    "header  =[\"label\"]\n",
    "for i in range(0,784):\n",
    "   header.append(\"pixel\"+str(i))\n",
    "with open('dataset.csv', 'a') as f:\n",
    "   writer = csv.writer(f)\n",
    "   writer.writerow(header)\n",
    "    \n",
    "for label in range(10):\n",
    "   dirList = glob.glob(\"captured_images/\"+str(label)+\"/*.png\")\n",
    "    \n",
    "   for img_path in dirList:\n",
    "       im= cv2.imread(img_path)\n",
    "       im_gray = cv2.cvtColor(im,cv2.COLOR_BGR2GRAY)\n",
    "       im_gray = cv2.GaussianBlur(im_gray,(15,15), 0)\n",
    "       roi= cv2.resize(im_gray,(28,28), interpolation=cv2.INTER_AREA)\n",
    "        \n",
    "       data=[]\n",
    "       data.append(label)\n",
    "       rows, cols = roi.shape\n",
    "        \n",
    "       ## Fill the data array with pixels one by one.\n",
    "       for i in range(rows):\n",
    "           for j in range(cols):\n",
    "               k =roi[i,j]\n",
    "               if k>100:\n",
    "                   k=1\n",
    "               else:\n",
    "                   k=0\n",
    "               data.append(k)\n",
    "       with open('dataset.csv', 'a') as f:\n",
    "           writer = csv.writer(f)\n",
    "           writer.writerow(data)"
   ]
  },
  {
   "cell_type": "markdown",
   "id": "74960bbb-60f4-4960-bfa3-c6d6b3991790",
   "metadata": {},
   "source": [
    "# Load Dataset"
   ]
  },
  {
   "cell_type": "code",
   "execution_count": 71,
   "id": "cafe4ed5-03f7-45c2-bf4d-038879eedc28",
   "metadata": {},
   "outputs": [
    {
     "data": {
      "text/html": [
       "<div>\n",
       "<style scoped>\n",
       "    .dataframe tbody tr th:only-of-type {\n",
       "        vertical-align: middle;\n",
       "    }\n",
       "\n",
       "    .dataframe tbody tr th {\n",
       "        vertical-align: top;\n",
       "    }\n",
       "\n",
       "    .dataframe thead th {\n",
       "        text-align: right;\n",
       "    }\n",
       "</style>\n",
       "<table border=\"1\" class=\"dataframe\">\n",
       "  <thead>\n",
       "    <tr style=\"text-align: right;\">\n",
       "      <th></th>\n",
       "      <th>label</th>\n",
       "      <th>pixel0</th>\n",
       "      <th>pixel1</th>\n",
       "      <th>pixel2</th>\n",
       "      <th>pixel3</th>\n",
       "      <th>pixel4</th>\n",
       "      <th>pixel5</th>\n",
       "      <th>pixel6</th>\n",
       "      <th>pixel7</th>\n",
       "      <th>pixel8</th>\n",
       "      <th>...</th>\n",
       "      <th>pixel774</th>\n",
       "      <th>pixel775</th>\n",
       "      <th>pixel776</th>\n",
       "      <th>pixel777</th>\n",
       "      <th>pixel778</th>\n",
       "      <th>pixel779</th>\n",
       "      <th>pixel780</th>\n",
       "      <th>pixel781</th>\n",
       "      <th>pixel782</th>\n",
       "      <th>pixel783</th>\n",
       "    </tr>\n",
       "  </thead>\n",
       "  <tbody>\n",
       "    <tr>\n",
       "      <th>671</th>\n",
       "      <td>6</td>\n",
       "      <td>0</td>\n",
       "      <td>0</td>\n",
       "      <td>0</td>\n",
       "      <td>0</td>\n",
       "      <td>0</td>\n",
       "      <td>0</td>\n",
       "      <td>0</td>\n",
       "      <td>0</td>\n",
       "      <td>0</td>\n",
       "      <td>...</td>\n",
       "      <td>0</td>\n",
       "      <td>0</td>\n",
       "      <td>0</td>\n",
       "      <td>0</td>\n",
       "      <td>0</td>\n",
       "      <td>0</td>\n",
       "      <td>0</td>\n",
       "      <td>0</td>\n",
       "      <td>0</td>\n",
       "      <td>0</td>\n",
       "    </tr>\n",
       "    <tr>\n",
       "      <th>611</th>\n",
       "      <td>6</td>\n",
       "      <td>0</td>\n",
       "      <td>0</td>\n",
       "      <td>0</td>\n",
       "      <td>0</td>\n",
       "      <td>0</td>\n",
       "      <td>0</td>\n",
       "      <td>0</td>\n",
       "      <td>0</td>\n",
       "      <td>0</td>\n",
       "      <td>...</td>\n",
       "      <td>0</td>\n",
       "      <td>0</td>\n",
       "      <td>0</td>\n",
       "      <td>0</td>\n",
       "      <td>0</td>\n",
       "      <td>0</td>\n",
       "      <td>0</td>\n",
       "      <td>0</td>\n",
       "      <td>0</td>\n",
       "      <td>0</td>\n",
       "    </tr>\n",
       "    <tr>\n",
       "      <th>842</th>\n",
       "      <td>8</td>\n",
       "      <td>0</td>\n",
       "      <td>0</td>\n",
       "      <td>0</td>\n",
       "      <td>0</td>\n",
       "      <td>0</td>\n",
       "      <td>0</td>\n",
       "      <td>0</td>\n",
       "      <td>0</td>\n",
       "      <td>0</td>\n",
       "      <td>...</td>\n",
       "      <td>0</td>\n",
       "      <td>0</td>\n",
       "      <td>0</td>\n",
       "      <td>0</td>\n",
       "      <td>0</td>\n",
       "      <td>0</td>\n",
       "      <td>0</td>\n",
       "      <td>0</td>\n",
       "      <td>0</td>\n",
       "      <td>0</td>\n",
       "    </tr>\n",
       "    <tr>\n",
       "      <th>91</th>\n",
       "      <td>0</td>\n",
       "      <td>0</td>\n",
       "      <td>0</td>\n",
       "      <td>0</td>\n",
       "      <td>0</td>\n",
       "      <td>0</td>\n",
       "      <td>0</td>\n",
       "      <td>0</td>\n",
       "      <td>0</td>\n",
       "      <td>0</td>\n",
       "      <td>...</td>\n",
       "      <td>0</td>\n",
       "      <td>0</td>\n",
       "      <td>0</td>\n",
       "      <td>0</td>\n",
       "      <td>0</td>\n",
       "      <td>0</td>\n",
       "      <td>0</td>\n",
       "      <td>0</td>\n",
       "      <td>0</td>\n",
       "      <td>0</td>\n",
       "    </tr>\n",
       "    <tr>\n",
       "      <th>305</th>\n",
       "      <td>3</td>\n",
       "      <td>0</td>\n",
       "      <td>0</td>\n",
       "      <td>0</td>\n",
       "      <td>0</td>\n",
       "      <td>0</td>\n",
       "      <td>0</td>\n",
       "      <td>0</td>\n",
       "      <td>0</td>\n",
       "      <td>0</td>\n",
       "      <td>...</td>\n",
       "      <td>0</td>\n",
       "      <td>0</td>\n",
       "      <td>0</td>\n",
       "      <td>0</td>\n",
       "      <td>0</td>\n",
       "      <td>0</td>\n",
       "      <td>0</td>\n",
       "      <td>0</td>\n",
       "      <td>0</td>\n",
       "      <td>0</td>\n",
       "    </tr>\n",
       "    <tr>\n",
       "      <th>...</th>\n",
       "      <td>...</td>\n",
       "      <td>...</td>\n",
       "      <td>...</td>\n",
       "      <td>...</td>\n",
       "      <td>...</td>\n",
       "      <td>...</td>\n",
       "      <td>...</td>\n",
       "      <td>...</td>\n",
       "      <td>...</td>\n",
       "      <td>...</td>\n",
       "      <td>...</td>\n",
       "      <td>...</td>\n",
       "      <td>...</td>\n",
       "      <td>...</td>\n",
       "      <td>...</td>\n",
       "      <td>...</td>\n",
       "      <td>...</td>\n",
       "      <td>...</td>\n",
       "      <td>...</td>\n",
       "      <td>...</td>\n",
       "      <td>...</td>\n",
       "    </tr>\n",
       "    <tr>\n",
       "      <th>575</th>\n",
       "      <td>5</td>\n",
       "      <td>0</td>\n",
       "      <td>0</td>\n",
       "      <td>0</td>\n",
       "      <td>0</td>\n",
       "      <td>0</td>\n",
       "      <td>0</td>\n",
       "      <td>0</td>\n",
       "      <td>0</td>\n",
       "      <td>0</td>\n",
       "      <td>...</td>\n",
       "      <td>0</td>\n",
       "      <td>0</td>\n",
       "      <td>0</td>\n",
       "      <td>0</td>\n",
       "      <td>0</td>\n",
       "      <td>0</td>\n",
       "      <td>0</td>\n",
       "      <td>0</td>\n",
       "      <td>0</td>\n",
       "      <td>0</td>\n",
       "    </tr>\n",
       "    <tr>\n",
       "      <th>501</th>\n",
       "      <td>5</td>\n",
       "      <td>0</td>\n",
       "      <td>0</td>\n",
       "      <td>0</td>\n",
       "      <td>0</td>\n",
       "      <td>0</td>\n",
       "      <td>0</td>\n",
       "      <td>0</td>\n",
       "      <td>0</td>\n",
       "      <td>0</td>\n",
       "      <td>...</td>\n",
       "      <td>0</td>\n",
       "      <td>0</td>\n",
       "      <td>0</td>\n",
       "      <td>0</td>\n",
       "      <td>0</td>\n",
       "      <td>0</td>\n",
       "      <td>0</td>\n",
       "      <td>0</td>\n",
       "      <td>0</td>\n",
       "      <td>0</td>\n",
       "    </tr>\n",
       "    <tr>\n",
       "      <th>287</th>\n",
       "      <td>2</td>\n",
       "      <td>0</td>\n",
       "      <td>0</td>\n",
       "      <td>0</td>\n",
       "      <td>0</td>\n",
       "      <td>0</td>\n",
       "      <td>0</td>\n",
       "      <td>0</td>\n",
       "      <td>0</td>\n",
       "      <td>0</td>\n",
       "      <td>...</td>\n",
       "      <td>0</td>\n",
       "      <td>0</td>\n",
       "      <td>0</td>\n",
       "      <td>0</td>\n",
       "      <td>0</td>\n",
       "      <td>0</td>\n",
       "      <td>0</td>\n",
       "      <td>0</td>\n",
       "      <td>0</td>\n",
       "      <td>0</td>\n",
       "    </tr>\n",
       "    <tr>\n",
       "      <th>463</th>\n",
       "      <td>4</td>\n",
       "      <td>0</td>\n",
       "      <td>0</td>\n",
       "      <td>0</td>\n",
       "      <td>0</td>\n",
       "      <td>0</td>\n",
       "      <td>0</td>\n",
       "      <td>0</td>\n",
       "      <td>0</td>\n",
       "      <td>0</td>\n",
       "      <td>...</td>\n",
       "      <td>0</td>\n",
       "      <td>0</td>\n",
       "      <td>0</td>\n",
       "      <td>0</td>\n",
       "      <td>0</td>\n",
       "      <td>0</td>\n",
       "      <td>0</td>\n",
       "      <td>0</td>\n",
       "      <td>0</td>\n",
       "      <td>0</td>\n",
       "    </tr>\n",
       "    <tr>\n",
       "      <th>474</th>\n",
       "      <td>4</td>\n",
       "      <td>0</td>\n",
       "      <td>0</td>\n",
       "      <td>0</td>\n",
       "      <td>0</td>\n",
       "      <td>0</td>\n",
       "      <td>0</td>\n",
       "      <td>0</td>\n",
       "      <td>0</td>\n",
       "      <td>0</td>\n",
       "      <td>...</td>\n",
       "      <td>0</td>\n",
       "      <td>0</td>\n",
       "      <td>0</td>\n",
       "      <td>0</td>\n",
       "      <td>0</td>\n",
       "      <td>0</td>\n",
       "      <td>0</td>\n",
       "      <td>0</td>\n",
       "      <td>0</td>\n",
       "      <td>0</td>\n",
       "    </tr>\n",
       "  </tbody>\n",
       "</table>\n",
       "<p>1000 rows × 785 columns</p>\n",
       "</div>"
      ],
      "text/plain": [
       "     label  pixel0  pixel1  pixel2  pixel3  pixel4  pixel5  pixel6  pixel7  \\\n",
       "671      6       0       0       0       0       0       0       0       0   \n",
       "611      6       0       0       0       0       0       0       0       0   \n",
       "842      8       0       0       0       0       0       0       0       0   \n",
       "91       0       0       0       0       0       0       0       0       0   \n",
       "305      3       0       0       0       0       0       0       0       0   \n",
       "..     ...     ...     ...     ...     ...     ...     ...     ...     ...   \n",
       "575      5       0       0       0       0       0       0       0       0   \n",
       "501      5       0       0       0       0       0       0       0       0   \n",
       "287      2       0       0       0       0       0       0       0       0   \n",
       "463      4       0       0       0       0       0       0       0       0   \n",
       "474      4       0       0       0       0       0       0       0       0   \n",
       "\n",
       "     pixel8  ...  pixel774  pixel775  pixel776  pixel777  pixel778  pixel779  \\\n",
       "671       0  ...         0         0         0         0         0         0   \n",
       "611       0  ...         0         0         0         0         0         0   \n",
       "842       0  ...         0         0         0         0         0         0   \n",
       "91        0  ...         0         0         0         0         0         0   \n",
       "305       0  ...         0         0         0         0         0         0   \n",
       "..      ...  ...       ...       ...       ...       ...       ...       ...   \n",
       "575       0  ...         0         0         0         0         0         0   \n",
       "501       0  ...         0         0         0         0         0         0   \n",
       "287       0  ...         0         0         0         0         0         0   \n",
       "463       0  ...         0         0         0         0         0         0   \n",
       "474       0  ...         0         0         0         0         0         0   \n",
       "\n",
       "     pixel780  pixel781  pixel782  pixel783  \n",
       "671         0         0         0         0  \n",
       "611         0         0         0         0  \n",
       "842         0         0         0         0  \n",
       "91          0         0         0         0  \n",
       "305         0         0         0         0  \n",
       "..        ...       ...       ...       ...  \n",
       "575         0         0         0         0  \n",
       "501         0         0         0         0  \n",
       "287         0         0         0         0  \n",
       "463         0         0         0         0  \n",
       "474         0         0         0         0  \n",
       "\n",
       "[1000 rows x 785 columns]"
      ]
     },
     "execution_count": 71,
     "metadata": {},
     "output_type": "execute_result"
    }
   ],
   "source": [
    "import pandas as pd #pip install pandas\n",
    "from sklearn.utils import shuffle #pip install scikit-learn\n",
    "#0,....,1.....,2.....\n",
    "#5,3,1,0,2,5,.......\n",
    " \n",
    "data = pd.read_csv('dataset.csv')\n",
    "data = shuffle(data)\n",
    "data"
   ]
  },
  {
   "cell_type": "markdown",
   "id": "d7939008-0e27-4fd5-a206-a7788a6e39fb",
   "metadata": {},
   "source": [
    "**total 1000 images 785 px fitted into dataset**"
   ]
  },
  {
   "cell_type": "markdown",
   "id": "4a53be5f-67af-4fd8-a113-f22e3ee95e15",
   "metadata": {},
   "source": [
    "# Separating dependent and independent variables:\n",
    "\n",
    "## Then we have to separate the dependent (Y) and the independent variable (X). The pixel value (between 0 and 1) will be our independent variable.Each digit is represented by a massive amount of 0 and 1. Our digit (from 0 to 9) will be our dependent variable."
   ]
  },
  {
   "cell_type": "code",
   "execution_count": 74,
   "id": "8b099340-7e60-4e68-8c73-2dd28c0a6318",
   "metadata": {},
   "outputs": [],
   "source": [
    "X = data.drop([\"label\"],axis=1)\n",
    "Y= data[\"label\"]"
   ]
  },
  {
   "cell_type": "markdown",
   "id": "b1ab85c2-be87-4f24-a50e-533b131e86e1",
   "metadata": {},
   "source": [
    "**preview of one image using matplotlib**"
   ]
  },
  {
   "cell_type": "code",
   "execution_count": 75,
   "id": "bb68a626-2f74-41aa-b768-2399bf8f8fdb",
   "metadata": {},
   "outputs": [
    {
     "name": "stdout",
     "output_type": "stream",
     "text": [
      "4\n"
     ]
    },
    {
     "data": {
      "text/plain": [
       "<matplotlib.image.AxesImage at 0x205f5214650>"
      ]
     },
     "execution_count": 75,
     "metadata": {},
     "output_type": "execute_result"
    },
    {
     "data": {
      "image/png": "[encoded data removed]",
      "text/plain": [
       "<Figure size 640x480 with 1 Axes>"
      ]
     },
     "metadata": {},
     "output_type": "display_data"
    }
   ],
   "source": [
    "\n",
    "import matplotlib.pyplot as plt\n",
    "import cv2\n",
    "idx = 474\n",
    "img = X.loc[idx].values.reshape(28,28)\n",
    "print(Y[idx])\n",
    "plt.imshow(img)\n"
   ]
  },
  {
   "cell_type": "markdown",
   "id": "e8775a8c-af88-403e-ad49-cc518707f656",
   "metadata": {},
   "source": [
    "# Train-Test Split"
   ]
  },
  {
   "cell_type": "code",
   "execution_count": 76,
   "id": "f14ddfe9-0a95-489f-b20e-44c30d7da9c2",
   "metadata": {},
   "outputs": [],
   "source": [
    "from sklearn.model_selection import train_test_split\n",
    "train_x,test_x,train_y,test_y = train_test_split(X,Y, test_size = 0.2)"
   ]
  },
  {
   "cell_type": "markdown",
   "id": "c87cc204-9119-4fc4-8c5e-a3e2b17a5f1b",
   "metadata": {},
   "source": [
    "# 3.Fit model using svc and also saving the model in joblib"
   ]
  },
  {
   "cell_type": "code",
   "execution_count": 77,
   "id": "a256aa9f-64b2-49ca-aa47-b9d74e45aeb6",
   "metadata": {},
   "outputs": [
    {
     "data": {
      "text/plain": [
       "['model/digit_recognizer']"
      ]
     },
     "execution_count": 77,
     "metadata": {},
     "output_type": "execute_result"
    }
   ],
   "source": [
    "import joblib\n",
    "from sklearn.svm import SVC\n",
    "classifier=SVC(kernel=\"linear\", random_state=6)\n",
    "classifier.fit(train_x,train_y)\n",
    "joblib.dump(classifier, \"model/digit_recognizer\")"
   ]
  },
  {
   "cell_type": "markdown",
   "id": "57af6ab8-497a-4446-9985-524c573d6e3b",
   "metadata": {},
   "source": [
    "### calculate accuracy"
   ]
  },
  {
   "cell_type": "code",
   "execution_count": 78,
   "id": "3caa7139-a688-4108-b993-c11431ea418b",
   "metadata": {},
   "outputs": [
    {
     "name": "stdout",
     "output_type": "stream",
     "text": [
      "Accuracy=  0.965\n"
     ]
    }
   ],
   "source": [
    "from sklearn import metrics\n",
    "prediction=classifier.predict(test_x)\n",
    "print(\"Accuracy= \",metrics.accuracy_score(prediction, test_y))"
   ]
  },
  {
   "cell_type": "markdown",
   "id": "e5dbfb11-cc19-4d3c-b57d-54b71304fb1d",
   "metadata": {},
   "source": [
    "**that is our model predicts the images 96 out of 100 correctly** "
   ]
  },
  {
   "cell_type": "markdown",
   "id": "0d74b49e-c8ba-4091-af54-cf323198164f",
   "metadata": {},
   "source": [
    "# Live Prediction"
   ]
  },
  {
   "cell_type": "code",
   "execution_count": 1,
   "id": "3dd223f9-d007-4b99-a2cd-4c36c7907c10",
   "metadata": {},
   "outputs": [
    {
     "name": "stderr",
     "output_type": "stream",
     "text": [
      "C:\\Users\\vasu_\\AppData\\Local\\Packages\\PythonSoftwareFoundation.Python.3.12_qbz5n2kfra8p0\\LocalCache\\local-packages\\Python312\\site-packages\\sklearn\\base.py:493: UserWarning: X does not have valid feature names, but SVC was fitted with feature names\n",
      "  warnings.warn(\n"
     ]
    },
    {
     "name": "stdout",
     "output_type": "stream",
     "text": [
      "Prediction: 8\n"
     ]
    },
    {
     "name": "stderr",
     "output_type": "stream",
     "text": [
      "C:\\Users\\vasu_\\AppData\\Local\\Packages\\PythonSoftwareFoundation.Python.3.12_qbz5n2kfra8p0\\LocalCache\\local-packages\\Python312\\site-packages\\sklearn\\base.py:493: UserWarning: X does not have valid feature names, but SVC was fitted with feature names\n",
      "  warnings.warn(\n"
     ]
    },
    {
     "name": "stdout",
     "output_type": "stream",
     "text": [
      "Prediction: 8\n"
     ]
    },
    {
     "name": "stderr",
     "output_type": "stream",
     "text": [
      "C:\\Users\\vasu_\\AppData\\Local\\Packages\\PythonSoftwareFoundation.Python.3.12_qbz5n2kfra8p0\\LocalCache\\local-packages\\Python312\\site-packages\\sklearn\\base.py:493: UserWarning: X does not have valid feature names, but SVC was fitted with feature names\n",
      "  warnings.warn(\n"
     ]
    },
    {
     "name": "stdout",
     "output_type": "stream",
     "text": [
      "Prediction: 8\n"
     ]
    },
    {
     "name": "stderr",
     "output_type": "stream",
     "text": [
      "C:\\Users\\vasu_\\AppData\\Local\\Packages\\PythonSoftwareFoundation.Python.3.12_qbz5n2kfra8p0\\LocalCache\\local-packages\\Python312\\site-packages\\sklearn\\base.py:493: UserWarning: X does not have valid feature names, but SVC was fitted with feature names\n",
      "  warnings.warn(\n"
     ]
    },
    {
     "name": "stdout",
     "output_type": "stream",
     "text": [
      "Prediction: 8\n"
     ]
    },
    {
     "name": "stderr",
     "output_type": "stream",
     "text": [
      "C:\\Users\\vasu_\\AppData\\Local\\Packages\\PythonSoftwareFoundation.Python.3.12_qbz5n2kfra8p0\\LocalCache\\local-packages\\Python312\\site-packages\\sklearn\\base.py:493: UserWarning: X does not have valid feature names, but SVC was fitted with feature names\n",
      "  warnings.warn(\n"
     ]
    },
    {
     "name": "stdout",
     "output_type": "stream",
     "text": [
      "Prediction: 7\n"
     ]
    },
    {
     "ename": "KeyboardInterrupt",
     "evalue": "",
     "output_type": "error",
     "traceback": [
      "\u001b[1;31m---------------------------------------------------------------------------\u001b[0m",
      "\u001b[1;31mKeyboardInterrupt\u001b[0m                         Traceback (most recent call last)",
      "Cell \u001b[1;32mIn[1], line 45\u001b[0m\n\u001b[0;32m     43\u001b[0m cv2\u001b[38;5;241m.\u001b[39mnamedWindow(\u001b[38;5;124m\"\u001b[39m\u001b[38;5;124mResult\u001b[39m\u001b[38;5;124m\"\u001b[39m)\n\u001b[0;32m     44\u001b[0m cv2\u001b[38;5;241m.\u001b[39mimshow(\u001b[38;5;124m\"\u001b[39m\u001b[38;5;124mResult\u001b[39m\u001b[38;5;124m\"\u001b[39m,im)\n\u001b[1;32m---> 45\u001b[0m \u001b[43mcv2\u001b[49m\u001b[38;5;241;43m.\u001b[39;49m\u001b[43mwaitKey\u001b[49m\u001b[43m(\u001b[49m\u001b[38;5;241;43m10000\u001b[39;49m\u001b[43m)\u001b[49m\n\u001b[0;32m     46\u001b[0m \u001b[38;5;28;01mif\u001b[39;00m cv2\u001b[38;5;241m.\u001b[39mwaitKey(\u001b[38;5;241m1\u001b[39m)\u001b[38;5;241m==\u001b[39m\u001b[38;5;241m13\u001b[39m: \u001b[38;5;66;03m#27 is the ascii value of esc, 13 is the ascii value of enter\u001b[39;00m\n\u001b[0;32m     47\u001b[0m     \u001b[38;5;28;01mbreak\u001b[39;00m\n",
      "\u001b[1;31mKeyboardInterrupt\u001b[0m: "
     ]
    }
   ],
   "source": [
    "#prediction of image drawn in paint\n",
    "  \n",
    "import joblib\n",
    "import cv2\n",
    "import numpy as np #pip install numpy\n",
    "import time\n",
    "import pyscreenshot as ImageGrab\n",
    "  \n",
    "model=joblib.load(\"model/digit_recognizer\")\n",
    "images_folder=\"img/\"\n",
    "  \n",
    "while True:\n",
    "   img=ImageGrab.grab(bbox=(149,422,836,885))\n",
    "    \n",
    "   img.save(images_folder+\"img.png\")\n",
    "   im = cv2.imread(images_folder+\"img.png\")\n",
    "   im_gray = cv2.cvtColor(im,cv2.COLOR_BGR2GRAY)\n",
    "   im_gray  =cv2.GaussianBlur(im_gray, (15,15), 0)\n",
    "    \n",
    "   #Threshold the image\n",
    "   ret, im_th = cv2.threshold(im_gray,100, 255, cv2.THRESH_BINARY)\n",
    "   roi = cv2.resize(im_th, (28,28), interpolation  =cv2.INTER_AREA)\n",
    "    \n",
    "   rows,cols=roi.shape\n",
    "    \n",
    "   X = []\n",
    "    \n",
    "   ##  Fill the data array with pixels one by one.\n",
    "   for i in range(rows):\n",
    "       for j in range(cols):\n",
    "           k = roi[i,j]\n",
    "           if k>100: \n",
    "               k=1\n",
    "           else:\n",
    "               k=0\n",
    "           X.append(k)\n",
    "            \n",
    "   predictions  =model.predict([X])\n",
    "   print(\"Prediction:\",predictions[0])\n",
    "   cv2.putText(im, \"Prediction is: \"+str(predictions[0]), (20,20), 0, 0.8,(0,255,0),2,cv2.LINE_AA)\n",
    "    \n",
    "   cv2.startWindowThread()\n",
    "   cv2.namedWindow(\"Result\")\n",
    "   cv2.imshow(\"Result\",im)\n",
    "   cv2.waitKey(10000)\n",
    "   if cv2.waitKey(1)==13: #27 is the ascii value of esc, 13 is the ascii value of enter\n",
    "       break\n",
    "cv2.destroyAllWindows()"
   ]
  },
  {
   "cell_type": "code",
   "execution_count": null,
   "id": "0cf366c3-c84d-4a09-ab0a-8a28817b8142",
   "metadata": {},
   "outputs": [],
   "source": []
  }
 ],
 "metadata": {
  "kernelspec": {
   "display_name": "Python 3 (ipykernel)",
   "language": "python",
   "name": "python3"
  },
  "language_info": {
   "codemirror_mode": {
    "name": "ipython",
    "version": 3
   },
   "file_extension": ".py",
   "mimetype": "text/x-python",
   "name": "python",
   "nbconvert_exporter": "python",
   "pygments_lexer": "ipython3",
   "version": "3.12.4"
  }
 },
 "nbformat": 4,
 "nbformat_minor": 5
}
